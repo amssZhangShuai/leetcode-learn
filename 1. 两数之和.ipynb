{
 "cells": [
  {
   "cell_type": "markdown",
   "metadata": {},
   "source": [
    "# 问题描述"
   ]
  },
  {
   "cell_type": "markdown",
   "metadata": {},
   "source": [
    "给定一个整数数组 nums 和一个目标值 target，请你在该数组中找出和为目标值的那 两个 整数，并返回他们的数组下标。你可以假设每种输入只会对应一个答案。但是，你不能重复利用这个数组中同样的元素"
   ]
  },
  {
   "cell_type": "markdown",
   "metadata": {},
   "source": [
    "# 示例"
   ]
  },
  {
   "cell_type": "markdown",
   "metadata": {},
   "source": [
    "## 例1"
   ]
  },
  {
   "cell_type": "markdown",
   "metadata": {},
   "source": [
    "给定 nums = [2, 7, 11, 15], target = 9"
   ]
  },
  {
   "cell_type": "markdown",
   "metadata": {},
   "source": [
    "因为 nums[0] + nums[1] = 2 + 7 = 9 所以返回 [0, 1]"
   ]
  },
  {
   "cell_type": "markdown",
   "metadata": {},
   "source": [
    "# 解答"
   ]
  },
  {
   "cell_type": "markdown",
   "metadata": {},
   "source": [
    "## 解答 1"
   ]
  },
  {
   "cell_type": "markdown",
   "metadata": {
    "heading_collapsed": true
   },
   "source": [
    "### 思路"
   ]
  },
  {
   "cell_type": "markdown",
   "metadata": {
    "hidden": true
   },
   "source": [
    "* 排序后，遍历每个元素，从剩下的元素中二分查找满足条件的数"
   ]
  },
  {
   "cell_type": "markdown",
   "metadata": {
    "heading_collapsed": true
   },
   "source": [
    "### 代码实现"
   ]
  },
  {
   "cell_type": "code",
   "execution_count": 1,
   "metadata": {
    "ExecuteTime": {
     "end_time": "2020-01-11T00:38:20.990587Z",
     "start_time": "2020-01-11T00:38:20.981191Z"
    },
    "code_folding": [],
    "hidden": true
   },
   "outputs": [],
   "source": [
    "from typing import List\n",
    "class Solution:\n",
    "    def twoSum(self, nums: List[int], target: int) -> List[int]:    \n",
    "        m = {}\n",
    "        for index, val in enumerate(nums):\n",
    "            v = m.get(val)\n",
    "            if v is None:\n",
    "                m[val] = [index]\n",
    "            else:\n",
    "                m[val].append(index)\n",
    "            \n",
    "        nums.sort()\n",
    "        \n",
    "        i = 0\n",
    "        while i < len(nums) and not self.binarySearch(nums[(i + 1):], target - nums[i], 0, len(nums) - i - 2):\n",
    "            i = i + 1\n",
    "        return [m[nums[i]].pop(), m[target - nums[i]].pop()]\n",
    "            \n",
    "    def binarySearch(self, nums: List[int], target: int, start: int, end: int) -> bool:\n",
    "        if start >= end:\n",
    "            return nums[start] == target\n",
    "        mid = (start + end) // 2\n",
    "        if nums[mid] > target:\n",
    "            return self.binarySearch(nums, target, start, mid - 1)\n",
    "        elif nums[mid] < target:\n",
    "            return self.binarySearch(nums, target, mid + 1, end)\n",
    "        else:\n",
    "            return True\n",
    "    \n",
    "        "
   ]
  },
  {
   "cell_type": "markdown",
   "metadata": {},
   "source": [
    "### 代码测试"
   ]
  },
  {
   "cell_type": "code",
   "execution_count": 87,
   "metadata": {
    "ExecuteTime": {
     "end_time": "2020-01-10T05:38:31.357931Z",
     "start_time": "2020-01-10T05:38:31.348518Z"
    },
    "scrolled": true
   },
   "outputs": [
    {
     "name": "stdout",
     "output_type": "stream",
     "text": [
      "[0, 1]\n",
      "[3, 5]\n",
      "[1, 0]\n"
     ]
    }
   ],
   "source": [
    "# test case\n",
    "s = Solution()\n",
    "print(s.twoSum([2, 7, 11, 15], 9))\n",
    "print(s.twoSum([4, 9, 2, 7, 11, 15], 22))\n",
    "print(s.twoSum([3, 3], 6))\n"
   ]
  },
  {
   "cell_type": "markdown",
   "metadata": {
    "heading_collapsed": true
   },
   "source": [
    "## 解答 2（参考他人）"
   ]
  },
  {
   "cell_type": "markdown",
   "metadata": {
    "heading_collapsed": true,
    "hidden": true
   },
   "source": [
    "### 思路"
   ]
  },
  {
   "cell_type": "markdown",
   "metadata": {
    "hidden": true
   },
   "source": [
    "* 遍历数组，以数组元素为key，相同的元素，数组的索引组成的列表为value建立map\n",
    "* 遍历数组，从map查找与当前遍历的元素之和为给定的数的元素"
   ]
  },
  {
   "cell_type": "markdown",
   "metadata": {
    "heading_collapsed": true,
    "hidden": true
   },
   "source": [
    "### 代码实现"
   ]
  },
  {
   "cell_type": "code",
   "execution_count": 6,
   "metadata": {
    "ExecuteTime": {
     "end_time": "2020-01-11T00:53:14.503812Z",
     "start_time": "2020-01-11T00:53:14.493478Z"
    },
    "hidden": true
   },
   "outputs": [],
   "source": [
    "from typing import List\n",
    "class Solution2:\n",
    "    def twoSum(self, nums: List[int], target: int) -> List[int]:    \n",
    "        m = {}\n",
    "        for index, val in enumerate(nums):\n",
    "            v = m.get(val)\n",
    "            if v is None:\n",
    "                m[val] = [index]\n",
    "            else:\n",
    "                m[val].append(index)\n",
    "        \n",
    "        for index, val in enumerate(nums):\n",
    "            val2 = target - val\n",
    "            index2 = m.get(val2)\n",
    "            if not index2 is None:\n",
    "                if val != val2:\n",
    "                    return [index, index2[0]]\n",
    "                if val == val2 and len(index2) > 1:\n",
    "                    return index2[:2]\n",
    "        \n",
    "        return []\n",
    "                    "
   ]
  },
  {
   "cell_type": "markdown",
   "metadata": {
    "heading_collapsed": true,
    "hidden": true
   },
   "source": [
    "### 代码测试"
   ]
  },
  {
   "cell_type": "code",
   "execution_count": 7,
   "metadata": {
    "ExecuteTime": {
     "end_time": "2020-01-11T00:53:15.660022Z",
     "start_time": "2020-01-11T00:53:15.652988Z"
    },
    "hidden": true,
    "scrolled": true
   },
   "outputs": [
    {
     "name": "stdout",
     "output_type": "stream",
     "text": [
      "[0, 1]\n",
      "[3, 5]\n",
      "[0, 1]\n"
     ]
    }
   ],
   "source": [
    "# test case\n",
    "s = Solution2()\n",
    "print(s.twoSum([2, 7, 11, 15], 9))\n",
    "print(s.twoSum([4, 9, 2, 7, 11, 15], 22))\n",
    "print(s.twoSum([3, 3], 6))\n"
   ]
  }
 ],
 "metadata": {
  "kernelspec": {
   "display_name": "Python 3",
   "language": "python",
   "name": "python3"
  },
  "language_info": {
   "codemirror_mode": {
    "name": "ipython",
    "version": 3
   },
   "file_extension": ".py",
   "mimetype": "text/x-python",
   "name": "python",
   "nbconvert_exporter": "python",
   "pygments_lexer": "ipython3",
   "version": "3.7.4"
  },
  "toc": {
   "base_numbering": 1,
   "nav_menu": {},
   "number_sections": true,
   "sideBar": true,
   "skip_h1_title": false,
   "title_cell": "Table of Contents",
   "title_sidebar": "Contents",
   "toc_cell": false,
   "toc_position": {},
   "toc_section_display": true,
   "toc_window_display": false
  },
  "varInspector": {
   "cols": {
    "lenName": 16,
    "lenType": 16,
    "lenVar": 40
   },
   "kernels_config": {
    "python": {
     "delete_cmd_postfix": "",
     "delete_cmd_prefix": "del ",
     "library": "var_list.py",
     "varRefreshCmd": "print(var_dic_list())"
    },
    "r": {
     "delete_cmd_postfix": ") ",
     "delete_cmd_prefix": "rm(",
     "library": "var_list.r",
     "varRefreshCmd": "cat(var_dic_list()) "
    }
   },
   "types_to_exclude": [
    "module",
    "function",
    "builtin_function_or_method",
    "instance",
    "_Feature"
   ],
   "window_display": false
  }
 },
 "nbformat": 4,
 "nbformat_minor": 2
}
