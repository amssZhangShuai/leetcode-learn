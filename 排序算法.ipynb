{
 "cells": [
  {
   "cell_type": "markdown",
   "metadata": {
    "heading_collapsed": true
   },
   "source": [
    "# 各个算法"
   ]
  },
  {
   "cell_type": "markdown",
   "metadata": {
    "hidden": true
   },
   "source": [
    "## 快速排序"
   ]
  },
  {
   "cell_type": "markdown",
   "metadata": {
    "heading_collapsed": true,
    "hidden": true
   },
   "source": [
    "### 思路"
   ]
  },
  {
   "cell_type": "markdown",
   "metadata": {
    "hidden": true
   },
   "source": [
    "* 随机挑选数组一元素，操作数组使得挑选的元素不大于其左边的每一个元素，不小于其右边的每一个元素\n",
    "* 而后对随机挑选元素的所有左边元素组成的子数组和所有右边元素组成的子数组分别做上述同样的操作"
   ]
  },
  {
   "cell_type": "markdown",
   "metadata": {
    "heading_collapsed": true,
    "hidden": true
   },
   "source": [
    "### 代码实现"
   ]
  },
  {
   "cell_type": "code",
   "execution_count": 5,
   "metadata": {
    "ExecuteTime": {
     "end_time": "2020-01-08T02:59:42.013966Z",
     "start_time": "2020-01-08T02:59:42.000418Z"
    },
    "hidden": true
   },
   "outputs": [],
   "source": [
    "from typing import List\n",
    "class QuickSort:\n",
    "    '''\n",
    "    函数功能\n",
    "        对数组从小到大排序\n",
    "    输入\n",
    "        nums: 数组\n",
    "    输出 \n",
    "        排序后的数组\n",
    "    '''\n",
    "    def sort(self, nums: List[int]) -> List[int]:\n",
    "        self.subSort(nums, 0, len(nums) - 1)\n",
    "        return nums\n",
    "    \n",
    "    '''\n",
    "    函数功能\n",
    "        对子数组进行排序\n",
    "    输入\n",
    "        nums: 数组\n",
    "        start: 子数组的起始索引\n",
    "        end: 子数组的终止索引\n",
    "    输出 \n",
    "        空\n",
    "    '''\n",
    "    def subSort(self, nums: List[int], start: int, end: int):\n",
    "        if start + 1 >= end:\n",
    "            return\n",
    "        mid = self.getMid(nums, start, end)\n",
    "        self.subSort(nums, start, mid - 1)\n",
    "        self.subSort(nums, mid + 1, end)\n",
    "        \n",
    "    '''\n",
    "    函数功能\n",
    "        操作子数组使得以其某一个元素为界，其左边的元素都不大于该元素，其右边的元素都不小于该元素\n",
    "    输入\n",
    "        nums: 数组\n",
    "        start: 子数组的起始索引\n",
    "        end: 子数组的终止索引\n",
    "    输出 \n",
    "        作为界的元素所在的索引\n",
    "    '''\n",
    "    def getMid(self, nums: List[int], start: int, end: int) -> int:\n",
    "        low = start\n",
    "        high = end\n",
    "        tmp = nums[low]\n",
    "        while low < high:\n",
    "            while low < high and nums[high] >= tmp:\n",
    "                high = high - 1\n",
    "            nums[low] = nums[high]\n",
    "            while low < high and nums[low] <= tmp:\n",
    "                low = low + 1\n",
    "            nums[high] = nums[low]\n",
    "        nums[low] = tmp\n",
    "        return low\n",
    "            "
   ]
  },
  {
   "cell_type": "markdown",
   "metadata": {
    "heading_collapsed": true,
    "hidden": true
   },
   "source": [
    "### 代码测试"
   ]
  },
  {
   "cell_type": "code",
   "execution_count": 9,
   "metadata": {
    "ExecuteTime": {
     "end_time": "2020-01-08T03:01:34.736724Z",
     "start_time": "2020-01-08T03:01:34.728326Z"
    },
    "hidden": true
   },
   "outputs": [
    {
     "name": "stdout",
     "output_type": "stream",
     "text": [
      "[1, 2, 3, 4, 5, 6, 7, 8, 9]\n",
      "[2, 3, 3, 3, 4, 5, 7, 7, 9]\n",
      "[0, 0, 1, 1, 1, 1, 1, 9, 9]\n"
     ]
    }
   ],
   "source": [
    "quickSort = QuickSort()\n",
    "print(quickSort.sort([9, 8, 7, 6, 5, 4, 3, 2, 1]))\n",
    "print(quickSort.sort([3, 3, 5, 7, 4, 3, 2, 7, 9]))\n",
    "print(quickSort.sort([1, 1, 1, 1, 1, 0, 0, 9, 9]))"
   ]
  },
  {
   "cell_type": "markdown",
   "metadata": {
    "heading_collapsed": true,
    "hidden": true
   },
   "source": [
    "## 归并排序"
   ]
  },
  {
   "cell_type": "markdown",
   "metadata": {
    "heading_collapsed": true,
    "hidden": true
   },
   "source": [
    "### 思路"
   ]
  },
  {
   "cell_type": "markdown",
   "metadata": {
    "hidden": true
   },
   "source": [
    "* 对数组一分为二子数组，分别对子数组排序，然后再整体排序"
   ]
  },
  {
   "cell_type": "markdown",
   "metadata": {
    "heading_collapsed": true,
    "hidden": true
   },
   "source": [
    "### 代码实现"
   ]
  },
  {
   "cell_type": "code",
   "execution_count": 15,
   "metadata": {
    "ExecuteTime": {
     "end_time": "2020-01-08T03:35:27.199102Z",
     "start_time": "2020-01-08T03:35:27.189237Z"
    },
    "hidden": true
   },
   "outputs": [],
   "source": [
    "from typing import List\n",
    "class MergeSort:\n",
    "    '''\n",
    "    函数功能\n",
    "        对数组从小到大排序\n",
    "    输入\n",
    "        nums: 数组\n",
    "    输出 \n",
    "        排序后的数组\n",
    "    '''\n",
    "    def sort(self, nums: List[int]) -> List[int]:\n",
    "        self.subSort(nums, 0, len(nums) - 1)\n",
    "        return nums\n",
    "    \n",
    "    '''\n",
    "    函数功能\n",
    "        对子数组进行排序\n",
    "    输入\n",
    "        nums: 数组\n",
    "        start: 子数组的起始索引\n",
    "        end: 子数组的终止索引\n",
    "    输出 \n",
    "        空\n",
    "    '''\n",
    "    def subSort(self, nums: List[int], start: int, end: int):\n",
    "        if start >= end:\n",
    "            return\n",
    "        mid = (start + end) // 2\n",
    "        self.subSort(nums, start, mid)\n",
    "        self.subSort(nums, mid, end)\n",
    "        self.merge(nums, start, mid, end)\n",
    "        \n",
    "    '''\n",
    "    函数功能\n",
    "        对已各自排好序的相邻两子数组进行整体排序\n",
    "    输入\n",
    "        nums: 数组\n",
    "        start: 左边子数组的起始索引\n",
    "        mid: 两子数组的边界，既是左边子数组的终止索引，又是右边子数组的起始索引\n",
    "        end: 右边子数组的终止索引\n",
    "    输出 \n",
    "        空\n",
    "    '''\n",
    "    def merge(nums: List[int], start: int, mid: int, end: int):\n",
    "        tmp = []\n",
    "        i = start\n",
    "        j = mid\n",
    "        while i <= mid and j <= end:\n",
    "            if nums[i] <= nums[j]:\n",
    "                tmp.append(nums[i])\n",
    "                i = i + 1\n",
    "            else:\n",
    "                tmp.append(nums[j])\n",
    "                j = j + 1\n",
    "        tmp = tmp + nums[i: mid + 1] + nums[j: end + 1]\n",
    "        nums[start: end + 1] = tmp"
   ]
  },
  {
   "cell_type": "markdown",
   "metadata": {
    "heading_collapsed": true,
    "hidden": true
   },
   "source": [
    "### 代码测试"
   ]
  },
  {
   "cell_type": "code",
   "execution_count": 18,
   "metadata": {
    "ExecuteTime": {
     "end_time": "2020-01-08T03:36:56.715334Z",
     "start_time": "2020-01-08T03:36:56.706563Z"
    },
    "hidden": true
   },
   "outputs": [
    {
     "name": "stdout",
     "output_type": "stream",
     "text": [
      "[1, 2, 3, 4, 5, 6, 7, 8, 9]\n",
      "[2, 3, 3, 3, 4, 5, 7, 7, 9]\n",
      "[0, 0, 1, 1, 1, 1, 1, 9, 9]\n"
     ]
    }
   ],
   "source": [
    "mergeSort = MergeSort()\n",
    "print(quickSort.sort([9, 8, 7, 6, 5, 4, 3, 2, 1]))\n",
    "print(quickSort.sort([3, 3, 5, 7, 4, 3, 2, 7, 9]))\n",
    "print(quickSort.sort([1, 1, 1, 1, 1, 0, 0, 9, 9]))"
   ]
  },
  {
   "cell_type": "markdown",
   "metadata": {},
   "source": [
    "# 加深理解"
   ]
  },
  {
   "cell_type": "markdown",
   "metadata": {},
   "source": [
    "* 快速排序和归并排序的相同点\n",
    "  - 两者都用了分而治之的思想：把数组分成两部分，然后，各自单独处理 + 合并处理\n",
    "  - 相比两两比较的排序方法，两者都利用若a<b，b<c则a<c的原理，比较得到a<b，b<c之后省去了a与c的比较 \n",
    "* 快速排序和归并排序的不同点\n",
    "  - 快速排序是自上而下的排序方法(父集先于子集分成大数和小数两部分)，而归并排序是自下而上的排序方法(子集先有序再父集有序)\n",
    "  - 数组分成的两子数组，在快速排序方法中两者size大小关系不确定，而归并排序方法中两者size至多相差一"
   ]
  }
 ],
 "metadata": {
  "kernelspec": {
   "display_name": "Python 3",
   "language": "python",
   "name": "python3"
  },
  "language_info": {
   "codemirror_mode": {
    "name": "ipython",
    "version": 3
   },
   "file_extension": ".py",
   "mimetype": "text/x-python",
   "name": "python",
   "nbconvert_exporter": "python",
   "pygments_lexer": "ipython3",
   "version": "3.7.4"
  },
  "toc": {
   "base_numbering": 1,
   "nav_menu": {},
   "number_sections": true,
   "sideBar": true,
   "skip_h1_title": false,
   "title_cell": "Table of Contents",
   "title_sidebar": "Contents",
   "toc_cell": false,
   "toc_position": {
    "height": "calc(100% - 180px)",
    "left": "10px",
    "top": "150px",
    "width": "288px"
   },
   "toc_section_display": true,
   "toc_window_display": true
  },
  "varInspector": {
   "cols": {
    "lenName": 16,
    "lenType": 16,
    "lenVar": 40
   },
   "kernels_config": {
    "python": {
     "delete_cmd_postfix": "",
     "delete_cmd_prefix": "del ",
     "library": "var_list.py",
     "varRefreshCmd": "print(var_dic_list())"
    },
    "r": {
     "delete_cmd_postfix": ") ",
     "delete_cmd_prefix": "rm(",
     "library": "var_list.r",
     "varRefreshCmd": "cat(var_dic_list()) "
    }
   },
   "types_to_exclude": [
    "module",
    "function",
    "builtin_function_or_method",
    "instance",
    "_Feature"
   ],
   "window_display": false
  }
 },
 "nbformat": 4,
 "nbformat_minor": 2
}
