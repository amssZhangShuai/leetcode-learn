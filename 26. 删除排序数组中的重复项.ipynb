{
 "cells": [
  {
   "cell_type": "markdown",
   "metadata": {
    "scrolled": false
   },
   "source": [
    "# 问题描述"
   ]
  },
  {
   "cell_type": "markdown",
   "metadata": {
    "scrolled": false
   },
   "source": [
    "给定一个<b>排序数组</b>，你需要在原地删除重复出现的元素，使得每个元素只出现一次，返回移除后数组的新长度。不要使用额外的数组空间，你必须在原地修改输入数组并在使用 O(1) 额外空间的条件下完成。"
   ]
  },
  {
   "cell_type": "markdown",
   "metadata": {
    "heading_collapsed": true
   },
   "source": [
    "# 示例"
   ]
  },
  {
   "cell_type": "markdown",
   "metadata": {
    "heading_collapsed": true,
    "hidden": true
   },
   "source": [
    "## 例1"
   ]
  },
  {
   "cell_type": "markdown",
   "metadata": {
    "hidden": true
   },
   "source": [
    "给定数组 nums = [1, 1, 2], 函数应该返回新的长度 2, 并且原数组 nums 的前两个元素被修改为 1, 2。 你不需要考虑数组中超出新长度后面的元素。"
   ]
  },
  {
   "cell_type": "markdown",
   "metadata": {
    "heading_collapsed": true,
    "hidden": true
   },
   "source": [
    "## 例2"
   ]
  },
  {
   "cell_type": "markdown",
   "metadata": {
    "hidden": true
   },
   "source": [
    "给定 nums = [0,0,1,1,1,2,2,3,3,4], 函数应该返回新的长度 5, 并且原数组 nums 的前五个元素被修改为 0, 1, 2, 3, 4。你不需要考虑数组中超出新长度后面的元素。"
   ]
  },
  {
   "cell_type": "markdown",
   "metadata": {
    "hide_input": true
   },
   "source": [
    "# 解答"
   ]
  },
  {
   "cell_type": "markdown",
   "metadata": {},
   "source": [
    "## 解答一"
   ]
  },
  {
   "cell_type": "markdown",
   "metadata": {
    "heading_collapsed": true
   },
   "source": [
    "### 分析："
   ]
  },
  {
   "cell_type": "markdown",
   "metadata": {
    "hidden": true
   },
   "source": [
    "称满足题目要求的数组具有性质A，则具有性质A的数组必须：数组不重复的元素必须连续不重复的排在数组的前面（我们这里称这些不重复的元素为最大两两不重复元素）\n",
    "* 遍历数组。在遍历到数组的每一个位置时，确保数组的第0个位置到该位置组成的子数组具有性质A，则遍历完后的数组满足题目要求\n",
    "* 为了满足上述遍历的要求，遍历到位置i(i>0)时，第0个位置到第i-1的位置组成的子数组一定是具有性质A的，只需调整位置i的元素使得0到i组成的子数组也是具有性质A。由于0到i-1的子数组具有性质A，则存在在0到i-1之间的位置j，使得0到j的元素是子数组最大的两两不重复元素\n",
    "  - 若位置i的元素是它之前数组数组出现过的元素，则不动\n",
    "  - 否则，把位置i的元素移动到0到i-1子数组两两最大不重复元素紧临之后，也就是j+1的位置\n",
    "* 上诉分析可知，每次遍历需要知道\n",
    "  - 每一次遍历，该遍历的元素之前的所有元素形成的子数组，其最大两两不重复的元素最大的位置(即j)\n",
    "  - 当前遍历的元素是否之前出现过，若知道最大两两不重复的元素最大的位置，由于原数组排好序，则当前元素是否之前出现过等价于当前元素是否与最大两两不重复的元素最大的位置所对应的元素是否相同\n",
    "* 所以只需要维护每次遍历后与之前形成的子数组最大两两不重复的元素最大的位置，此时题目要求的输出（重复数字移除后数组的新长度）便知\n",
    "  - 若位置i的元素是它之前数组数组出现过的元素，最大位置不变\n",
    "  - 否则，最大位置加1"
   ]
  },
  {
   "cell_type": "markdown",
   "metadata": {},
   "source": [
    "### 代码实现"
   ]
  },
  {
   "cell_type": "code",
   "execution_count": 1,
   "metadata": {
    "ExecuteTime": {
     "end_time": "2020-01-05T02:31:13.031478Z",
     "start_time": "2020-01-05T02:31:13.024593Z"
    },
    "code_folding": [],
    "hide_input": false
   },
   "outputs": [],
   "source": [
    "class Solution(object):\n",
    "    def removeDuplicates(self, nums):\n",
    "        \"\"\"\n",
    "        :type nums: List[int]\n",
    "        :rtype: int\n",
    "        \"\"\"\n",
    "        j = 0\n",
    "        for n in nums:\n",
    "            if (n != nums[j]):\n",
    "                j = j + 1\n",
    "                nums[j] = n\n",
    "        return 0 if nums.count == 0 else j + 1"
   ]
  },
  {
   "cell_type": "markdown",
   "metadata": {},
   "source": [
    "### 代码测试"
   ]
  },
  {
   "cell_type": "code",
   "execution_count": 5,
   "metadata": {
    "ExecuteTime": {
     "end_time": "2020-01-05T02:31:17.915866Z",
     "start_time": "2020-01-05T02:31:17.907491Z"
    },
    "code_folding": [],
    "hide_input": false
   },
   "outputs": [
    {
     "name": "stdout",
     "output_type": "stream",
     "text": [
      "2\n",
      "[1, 2, 2]\n",
      "5\n",
      "[0, 1, 2, 3, 4, 2, 2, 3, 3, 4]\n"
     ]
    }
   ],
   "source": [
    "# test case\n",
    "nums = [1, 1, 2]\n",
    "s = Solution()\n",
    "print(s.removeDuplicates(nums))\n",
    "print(nums)\n",
    "nums = [0,0,1,1,1,2,2,3,3,4]\n",
    "print(s.removeDuplicates(nums))\n",
    "print(nums)"
   ]
  }
 ],
 "metadata": {
  "kernelspec": {
   "display_name": "Python 2",
   "language": "python",
   "name": "python2"
  },
  "language_info": {
   "codemirror_mode": {
    "name": "ipython",
    "version": 2
   },
   "file_extension": ".py",
   "mimetype": "text/x-python",
   "name": "python",
   "nbconvert_exporter": "python",
   "pygments_lexer": "ipython2",
   "version": "2.7.16"
  },
  "toc": {
   "base_numbering": 1,
   "nav_menu": {},
   "number_sections": true,
   "sideBar": true,
   "skip_h1_title": false,
   "title_cell": "Table of Contents",
   "title_sidebar": "Contents",
   "toc_cell": false,
   "toc_position": {
    "height": "487px",
    "left": "174px",
    "top": "143px",
    "width": "165px"
   },
   "toc_section_display": true,
   "toc_window_display": true
  },
  "varInspector": {
   "cols": {
    "lenName": 16,
    "lenType": 16,
    "lenVar": 40
   },
   "kernels_config": {
    "python": {
     "delete_cmd_postfix": "",
     "delete_cmd_prefix": "del ",
     "library": "var_list.py",
     "varRefreshCmd": "print(var_dic_list())"
    },
    "r": {
     "delete_cmd_postfix": ") ",
     "delete_cmd_prefix": "rm(",
     "library": "var_list.r",
     "varRefreshCmd": "cat(var_dic_list()) "
    }
   },
   "oldHeight": 165,
   "position": {
    "height": "270px",
    "left": "824px",
    "right": "20px",
    "top": "139px",
    "width": "344px"
   },
   "types_to_exclude": [
    "module",
    "function",
    "builtin_function_or_method",
    "instance",
    "_Feature"
   ],
   "varInspector_section_display": "block",
   "window_display": false
  }
 },
 "nbformat": 4,
 "nbformat_minor": 2
}
