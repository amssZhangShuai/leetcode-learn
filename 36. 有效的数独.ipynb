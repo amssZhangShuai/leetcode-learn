{
 "cells": [
  {
   "cell_type": "markdown",
   "metadata": {
    "ExecuteTime": {
     "end_time": "2020-01-11T01:08:44.739425Z",
     "start_time": "2020-01-11T01:08:44.645470Z"
    },
    "heading_collapsed": true
   },
   "source": [
    "# 问题描述"
   ]
  },
  {
   "cell_type": "markdown",
   "metadata": {
    "hidden": true
   },
   "source": [
    "* 判断一个 9x9 的数独是否有效。只需要根据以下规则，验证已经填入的数字是否有效即可。\n",
    "  - 数字 1-9 在每一行只能出现一次。\n",
    "  - 数字 1-9 在每一列只能出现一次。\n",
    "  - 数字 1-9 在每一个以粗实线分隔的 3x3 宫内只能出现一次。\n",
    "<img src=\"img/有效的数独1.png\" />\n",
    "* 数独部分空格内已填入了数字，空白格用 '.' 表示。"
   ]
  },
  {
   "cell_type": "code",
   "execution_count": null,
   "metadata": {
    "hidden": true
   },
   "outputs": [],
   "source": []
  },
  {
   "cell_type": "markdown",
   "metadata": {
    "ExecuteTime": {
     "end_time": "2020-01-11T01:08:44.739425Z",
     "start_time": "2020-01-11T01:08:44.645470Z"
    },
    "heading_collapsed": true
   },
   "source": [
    "# 示例"
   ]
  },
  {
   "cell_type": "markdown",
   "metadata": {
    "hidden": true
   },
   "source": [
    "输入:\n",
    "<img src=\"img/有效的数独2.png\" />"
   ]
  },
  {
   "cell_type": "markdown",
   "metadata": {
    "hidden": true
   },
   "source": [
    "输出: true"
   ]
  },
  {
   "cell_type": "markdown",
   "metadata": {
    "hidden": true
   },
   "source": [
    "输入:\n",
    "<img src=\"img/有效的数独3.png\" />"
   ]
  },
  {
   "cell_type": "markdown",
   "metadata": {
    "hidden": true
   },
   "source": [
    "输出: false"
   ]
  },
  {
   "cell_type": "markdown",
   "metadata": {
    "hidden": true
   },
   "source": [
    "解释: 除了第一行的第一个数字从 5 改为 8 以外，空格内其他数字均与 示例1 相同。但由于位于左上角的 3x3 宫内有两个 8 存在, 因此这个数独是无效的。"
   ]
  },
  {
   "cell_type": "markdown",
   "metadata": {
    "heading_collapsed": true
   },
   "source": [
    "# 说明"
   ]
  },
  {
   "cell_type": "markdown",
   "metadata": {
    "hidden": true
   },
   "source": [
    "* 一个有效的数独（部分已被填充）不一定是可解的。\n",
    "* 只需要根据以上规则，验证已经填入的数字是否有效即可。\n",
    "* 给定数独序列只包含数字 1-9 和字符 '.' 。\n",
    "* 给定数独永远是 9x9 形式的"
   ]
  },
  {
   "cell_type": "markdown",
   "metadata": {
    "ExecuteTime": {
     "end_time": "2020-01-11T01:08:44.739425Z",
     "start_time": "2020-01-11T01:08:44.645470Z"
    },
    "heading_collapsed": true
   },
   "source": [
    "# 解答"
   ]
  },
  {
   "cell_type": "markdown",
   "metadata": {
    "ExecuteTime": {
     "end_time": "2020-01-11T01:08:44.739425Z",
     "start_time": "2020-01-11T01:08:44.645470Z"
    },
    "heading_collapsed": true,
    "hidden": true
   },
   "source": [
    "## 解答1"
   ]
  },
  {
   "cell_type": "markdown",
   "metadata": {
    "ExecuteTime": {
     "end_time": "2020-01-11T01:08:44.739425Z",
     "start_time": "2020-01-11T01:08:44.645470Z"
    },
    "heading_collapsed": true,
    "hidden": true
   },
   "source": [
    "### 思路"
   ]
  },
  {
   "cell_type": "markdown",
   "metadata": {
    "hidden": true
   },
   "source": [
    "* 遍历数组，验证3个条件\n",
    "  - 该元素是否在同一行出现过\n",
    "  - 该元素是否在同一列出现过\n",
    "  - 该元素所在的3\\*3区域是否出现过\n",
    "* (i // 3, j // 3)作为元素(行列索引分别为i,j)所在区域（也可以用10 * (i // 3) + (j // 3)）\n",
    "* 将遍历过的元素行列索引以及所在区域组成的三元组为value(由于相同的key有可能多个，所以存储成集合)，以元素的值为key存储为map，用于判断上述3个条件"
   ]
  },
  {
   "cell_type": "markdown",
   "metadata": {
    "ExecuteTime": {
     "end_time": "2020-01-11T01:08:44.739425Z",
     "start_time": "2020-01-11T01:08:44.645470Z"
    },
    "heading_collapsed": true,
    "hidden": true
   },
   "source": [
    "### 代码实现"
   ]
  },
  {
   "cell_type": "code",
   "execution_count": 43,
   "metadata": {
    "ExecuteTime": {
     "end_time": "2020-01-11T03:38:30.086598Z",
     "start_time": "2020-01-11T03:38:30.075961Z"
    },
    "hidden": true
   },
   "outputs": [],
   "source": [
    "from typing import List\n",
    "class Solution:\n",
    "    def isValidSudoku(self, board: List[List[str]]) -> bool:\n",
    "        m = {}\n",
    "        for i, row in enumerate(board):\n",
    "            for j, elem in enumerate(row):\n",
    "                if elem != \".\":\n",
    "                    val = m.get(elem)\n",
    "                    r = (i // 3, j // 3)\n",
    "                    if val is None:\n",
    "                        m[elem] = ({i}, {j}, {r})\n",
    "                    else:\n",
    "                        s_i, s_j, s_r = m[elem]\n",
    "                        if i in s_i or j in s_j or r in s_r:\n",
    "                            return False\n",
    "                        else:\n",
    "                            s_i.add(i)\n",
    "                            s_j.add(j)\n",
    "                            s_r.add(r)\n",
    "        return True\n",
    "                        \n",
    "            "
   ]
  },
  {
   "cell_type": "markdown",
   "metadata": {
    "ExecuteTime": {
     "end_time": "2020-01-11T01:08:44.739425Z",
     "start_time": "2020-01-11T01:08:44.645470Z"
    },
    "heading_collapsed": true,
    "hidden": true
   },
   "source": [
    "### 代码测试"
   ]
  },
  {
   "cell_type": "code",
   "execution_count": 42,
   "metadata": {
    "ExecuteTime": {
     "end_time": "2020-01-11T03:38:28.715327Z",
     "start_time": "2020-01-11T03:38:28.700778Z"
    },
    "hidden": true
   },
   "outputs": [
    {
     "name": "stdout",
     "output_type": "stream",
     "text": [
      "True\n",
      "False\n"
     ]
    }
   ],
   "source": [
    "# test case\n",
    "s = Solution()\n",
    "print(s.isValidSudoku([\n",
    "    ['5', '3', '.', '.', '7', '.', '.', '.', '.'],\n",
    "    ['6', '.', '.', '1', '9', '5', '.', '.', '.'],\n",
    "    ['.', '9', '8', '.', '.', '.', '.', '6', '.'],\n",
    "    ['8', '.', '.', '.', '6', '.', '.', '.', '3'],\n",
    "    ['4', '.', '.', '8', '.', '3', '.', '.', '1'],\n",
    "    ['7', '.', '.', '.', '2', '.', '.', '.', '6'],\n",
    "    ['.', '6', '.', '.', '.', '.', '2', '8', '.'],\n",
    "    ['.', '.', '.', '4', '1', '9', '.', '.', '5'],\n",
    "    ['.', '.', '.', '.', '8', '.', '.', '7', '9']\n",
    "]))\n",
    "print(s.isValidSudoku([\n",
    "    ['8', '3', '.', '.', '7', '.', '.', '.', '.'],\n",
    "    ['6', '.', '.', '1', '9', '5', '.', '.', '.'],\n",
    "    ['.', '9', '8', '.', '.', '.', '.', '6', '.'],\n",
    "    ['8', '.', '.', '.', '6', '.', '.', '.', '3'],\n",
    "    ['4', '.', '.', '8', '.', '3', '.', '.', '1'],\n",
    "    ['7', '.', '.', '.', '2', '.', '.', '.', '6'],\n",
    "    ['.', '6', '.', '.', '.', '.', '2', '8', '.'],\n",
    "    ['.', '.', '.', '4', '1', '9', '.', '.', '5'],\n",
    "    ['.', '.', '.', '.', '8', '.', '.', '7', '9']\n",
    "]))"
   ]
  }
 ],
 "metadata": {
  "kernelspec": {
   "display_name": "Python 3",
   "language": "python",
   "name": "python3"
  },
  "language_info": {
   "codemirror_mode": {
    "name": "ipython",
    "version": 3
   },
   "file_extension": ".py",
   "mimetype": "text/x-python",
   "name": "python",
   "nbconvert_exporter": "python",
   "pygments_lexer": "ipython3",
   "version": "3.7.4"
  },
  "toc": {
   "base_numbering": 1,
   "nav_menu": {},
   "number_sections": true,
   "sideBar": true,
   "skip_h1_title": false,
   "title_cell": "Table of Contents",
   "title_sidebar": "Contents",
   "toc_cell": false,
   "toc_position": {},
   "toc_section_display": true,
   "toc_window_display": false
  },
  "varInspector": {
   "cols": {
    "lenName": 16,
    "lenType": 16,
    "lenVar": 40
   },
   "kernels_config": {
    "python": {
     "delete_cmd_postfix": "",
     "delete_cmd_prefix": "del ",
     "library": "var_list.py",
     "varRefreshCmd": "print(var_dic_list())"
    },
    "r": {
     "delete_cmd_postfix": ") ",
     "delete_cmd_prefix": "rm(",
     "library": "var_list.r",
     "varRefreshCmd": "cat(var_dic_list()) "
    }
   },
   "types_to_exclude": [
    "module",
    "function",
    "builtin_function_or_method",
    "instance",
    "_Feature"
   ],
   "window_display": false
  }
 },
 "nbformat": 4,
 "nbformat_minor": 2
}
