{
 "cells": [
  {
   "cell_type": "markdown",
   "metadata": {
    "heading_collapsed": true
   },
   "source": [
    "# 问题描述"
   ]
  },
  {
   "cell_type": "markdown",
   "metadata": {
    "hidden": true
   },
   "source": [
    "给定一个整数数组，判断是否存在重复元素。如果任何值在数组中出现至少两次，函数返回 true。如果数组中每个元素都不相同，则返回 false。"
   ]
  },
  {
   "cell_type": "markdown",
   "metadata": {},
   "source": [
    "# 示例"
   ]
  },
  {
   "cell_type": "markdown",
   "metadata": {},
   "source": [
    "## 例1"
   ]
  },
  {
   "cell_type": "markdown",
   "metadata": {},
   "source": [
    "输入: [1,2,3,1]"
   ]
  },
  {
   "cell_type": "markdown",
   "metadata": {},
   "source": [
    "输出: true"
   ]
  },
  {
   "cell_type": "markdown",
   "metadata": {},
   "source": [
    "## 例2"
   ]
  },
  {
   "cell_type": "markdown",
   "metadata": {},
   "source": [
    "输入: [1,2,3,4]"
   ]
  },
  {
   "cell_type": "markdown",
   "metadata": {},
   "source": [
    "输出: false"
   ]
  },
  {
   "cell_type": "markdown",
   "metadata": {},
   "source": [
    "## 例3"
   ]
  },
  {
   "cell_type": "markdown",
   "metadata": {},
   "source": [
    "输入: [1,1,1,3,3,4,3,2,4,2]\n",
    "输出: true"
   ]
  },
  {
   "cell_type": "markdown",
   "metadata": {},
   "source": [
    "# 解答"
   ]
  },
  {
   "cell_type": "markdown",
   "metadata": {
    "ExecuteTime": {
     "end_time": "2020-01-07T01:36:00.044399Z",
     "start_time": "2020-01-07T01:35:59.906808Z"
    },
    "heading_collapsed": true
   },
   "source": [
    "## 解答 1"
   ]
  },
  {
   "cell_type": "markdown",
   "metadata": {
    "ExecuteTime": {
     "end_time": "2020-01-07T01:36:00.044399Z",
     "start_time": "2020-01-07T01:35:59.906808Z"
    },
    "heading_collapsed": true,
    "hidden": true
   },
   "source": [
    "### 思路 "
   ]
  },
  {
   "cell_type": "markdown",
   "metadata": {
    "hidden": true
   },
   "source": [
    "类似快排的思想: \n",
    "* 随机取数组的一元素，其他数组与之相比，相等则返回true\n",
    "* 否则分别对小于该元素的子数组和大于该元素的子数组分别用上述的方法确定是否有与自身随机取出的元素相同的其他元素，有的话返回true，没有的话分成两子数组继续找，直到不能分为止返回false"
   ]
  },
  {
   "cell_type": "markdown",
   "metadata": {
    "ExecuteTime": {
     "end_time": "2020-01-07T01:36:00.044399Z",
     "start_time": "2020-01-07T01:35:59.906808Z"
    },
    "heading_collapsed": true,
    "hidden": true
   },
   "source": [
    "###  代码实现"
   ]
  },
  {
   "cell_type": "code",
   "execution_count": 46,
   "metadata": {
    "ExecuteTime": {
     "end_time": "2020-01-07T03:56:45.617270Z",
     "start_time": "2020-01-07T03:56:45.607939Z"
    },
    "hidden": true
   },
   "outputs": [],
   "source": [
    "from typing import List\n",
    "class Solution:\n",
    "    def containsDuplicate(self, nums: List[int]) -> bool:\n",
    "        return self.check(0, len(nums) - 1, nums)\n",
    "    \n",
    "    '''\n",
    "    函数功能\n",
    "        检查子数组是否有重复元素\n",
    "    输入\n",
    "        nums: 数组\n",
    "        start: 子数组的起始索引\n",
    "        end: 子数组的终止索引\n",
    "    输出 \n",
    "        该子数组是否有重复元素\n",
    "    '''\n",
    "    def check(self, start: int, end: int, nums: List[int]) -> bool:\n",
    "        if start >= end:\n",
    "            return False\n",
    "        mid = self.quick(start, end, nums)\n",
    "        if mid == -1:\n",
    "            return True\n",
    "        return self.check(start, mid - 1, nums) or self.check(mid + 1, end, nums)\n",
    "        \n",
    "    '''\n",
    "    函数功能\n",
    "        随机取子数组一元素，操作子数组使得以该元素为界，子数组的左边都比该元素小，右边都比该元素大\n",
    "        若子数组有与该元素相同的其他元素，终止数组操作\n",
    "    输入\n",
    "        nums: 数组\n",
    "        start: 子数组的起始索引\n",
    "        end: 子数组的终止索引\n",
    "    输出 \n",
    "        子数组有与随机取出的元素重复的其他元素，则返回-1\n",
    "        否则返回随机取出的元素在子数组操作后的索引\n",
    "    input: start\n",
    "    '''\n",
    "    def quick(self, start:int, end: int, nums: List[int]) -> int:\n",
    "        low = start\n",
    "        high = end\n",
    "        checkpoint = nums[low]\n",
    "        while low < high:\n",
    "            while low < high and nums[high] >= checkpoint:\n",
    "                if nums[high] == checkpoint:\n",
    "                    return -1\n",
    "                high = high - 1\n",
    "            nums[low] = nums[high]\n",
    "            while low < high and nums[low] <= checkpoint:\n",
    "                if nums[low] == checkpoint:\n",
    "                    return -1\n",
    "                low = low + 1\n",
    "            nums[high] = nums[low]\n",
    "        nums[low] = checkpoint\n",
    "        return low\n"
   ]
  },
  {
   "cell_type": "markdown",
   "metadata": {
    "ExecuteTime": {
     "end_time": "2020-01-07T01:36:00.044399Z",
     "start_time": "2020-01-07T01:35:59.906808Z"
    },
    "heading_collapsed": true,
    "hidden": true
   },
   "source": [
    "###  代码测试"
   ]
  },
  {
   "cell_type": "code",
   "execution_count": 47,
   "metadata": {
    "ExecuteTime": {
     "end_time": "2020-01-07T03:56:47.079479Z",
     "start_time": "2020-01-07T03:56:47.072444Z"
    },
    "hidden": true,
    "scrolled": true
   },
   "outputs": [
    {
     "name": "stdout",
     "output_type": "stream",
     "text": [
      "True\n",
      "False\n",
      "True\n"
     ]
    }
   ],
   "source": [
    "# test case\n",
    "s = Solution()\n",
    "print(s.containsDuplicate([1, 2, 3, 1]))\n",
    "print(s.containsDuplicate([1, 2, 3, 4]))\n",
    "print(s.containsDuplicate([1,1,1,3,3,4,3,2,4,2]))"
   ]
  },
  {
   "cell_type": "markdown",
   "metadata": {
    "ExecuteTime": {
     "end_time": "2020-01-07T01:36:00.044399Z",
     "start_time": "2020-01-07T01:35:59.906808Z"
    },
    "heading_collapsed": true
   },
   "source": [
    "## 解答 2"
   ]
  },
  {
   "cell_type": "markdown",
   "metadata": {
    "ExecuteTime": {
     "end_time": "2020-01-07T01:36:00.044399Z",
     "start_time": "2020-01-07T01:35:59.906808Z"
    },
    "heading_collapsed": true,
    "hidden": true
   },
   "source": [
    "### 思路 "
   ]
  },
  {
   "cell_type": "markdown",
   "metadata": {
    "hidden": true
   },
   "source": [
    "类似归并排序的思想: \n",
    "* 数组二分为两子数组，问题化为检查两子数组自身是否有重复元素以及两子数组之间是否有重复元素\n",
    "* 对两子数组进行整体排序时检查两子数组之间是否有重复元素"
   ]
  },
  {
   "cell_type": "markdown",
   "metadata": {
    "ExecuteTime": {
     "end_time": "2020-01-07T01:36:00.044399Z",
     "start_time": "2020-01-07T01:35:59.906808Z"
    },
    "hidden": true
   },
   "source": [
    "###  代码实现"
   ]
  },
  {
   "cell_type": "code",
   "execution_count": 87,
   "metadata": {
    "ExecuteTime": {
     "end_time": "2020-01-07T04:50:28.350448Z",
     "start_time": "2020-01-07T04:50:28.337140Z"
    },
    "hidden": true
   },
   "outputs": [],
   "source": [
    "from typing import List\n",
    "class Solution2:\n",
    "    def containsDuplicate(self, nums: List[int]) -> bool:\n",
    "        return self.check(0, len(nums) - 1, nums)\n",
    "    \n",
    "    '''\n",
    "    函数功能\n",
    "        检查子数组是否有重复元素\n",
    "    输入\n",
    "        nums: 数组\n",
    "        start: 子数组的起始索引\n",
    "        end: 子数组的终止索引\n",
    "    输出 \n",
    "        该子数组是否有重复元素\n",
    "    '''\n",
    "    def check(self, start: int, end: int, nums: List[int]) -> bool:\n",
    "        if start >= end:\n",
    "            return False\n",
    "        mid = (start + end) // 2\n",
    "        return self.check(start, mid, nums) or self.check(mid + 1, end, nums) or self.merge(start, mid, end, nums)\n",
    "    \n",
    "    '''\n",
    "    函数功能\n",
    "        对相邻各自排好序的两子数组进行其整体排序\n",
    "        若两数组之间存在相同元素，终止排序操作\n",
    "    输入\n",
    "        start: 左边的子数组的起始索引\n",
    "        mid: 两子数组的边界的索引(左边子数组的终止索引)\n",
    "        end: 右边子数组的终止索引\n",
    "        nums: 数组\n",
    "    输出 \n",
    "        两子数组之间是否存在相同元素\n",
    "    input: start\n",
    "    '''\n",
    "    def merge(self, start: int, mid: int, end: int, nums: List[int]) -> bool:\n",
    "        tmpL= []\n",
    "        i = start\n",
    "        j = mid + 1\n",
    "        while i <= mid and j <= end:\n",
    "            if nums[i] == nums[j]:\n",
    "                return True\n",
    "            if nums[i] < nums[j]:\n",
    "                tmpL.append(nums[i])\n",
    "                i = i + 1\n",
    "            else:\n",
    "                tmpL.append(nums[j]) \n",
    "                j = j + 1\n",
    "        tmpL = tmpL + nums[i: mid + 1] + nums[j: end + 1]\n",
    "        nums[start: end + 1] = tmpL\n",
    "        return False\n",
    "        "
   ]
  },
  {
   "cell_type": "markdown",
   "metadata": {
    "ExecuteTime": {
     "end_time": "2020-01-07T01:36:00.044399Z",
     "start_time": "2020-01-07T01:35:59.906808Z"
    },
    "hidden": true
   },
   "source": [
    "###  代码测试"
   ]
  },
  {
   "cell_type": "code",
   "execution_count": 88,
   "metadata": {
    "ExecuteTime": {
     "end_time": "2020-01-07T04:50:29.201322Z",
     "start_time": "2020-01-07T04:50:29.193175Z"
    },
    "hidden": true,
    "scrolled": false
   },
   "outputs": [
    {
     "name": "stdout",
     "output_type": "stream",
     "text": [
      "True\n",
      "False\n",
      "True\n"
     ]
    }
   ],
   "source": [
    "# test case\n",
    "s = Solution2()\n",
    "print(s.containsDuplicate([1, 2, 3, 1]))\n",
    "print(s.containsDuplicate([1, 2, 3, 4]))\n",
    "print(s.containsDuplicate([1,1,1,3,3,4,3,2,4,2]))"
   ]
  },
  {
   "cell_type": "markdown",
   "metadata": {
    "ExecuteTime": {
     "end_time": "2020-01-07T01:36:00.044399Z",
     "start_time": "2020-01-07T01:35:59.906808Z"
    }
   },
   "source": [
    "## 解答 3（参考他人）"
   ]
  },
  {
   "cell_type": "markdown",
   "metadata": {
    "ExecuteTime": {
     "end_time": "2020-01-07T01:36:00.044399Z",
     "start_time": "2020-01-07T01:35:59.906808Z"
    }
   },
   "source": [
    "### 思路"
   ]
  },
  {
   "cell_type": "markdown",
   "metadata": {},
   "source": [
    "数组转为集合看元素是否变少"
   ]
  },
  {
   "cell_type": "markdown",
   "metadata": {
    "ExecuteTime": {
     "end_time": "2020-01-07T01:36:00.044399Z",
     "start_time": "2020-01-07T01:35:59.906808Z"
    },
    "heading_collapsed": true
   },
   "source": [
    "###  代码实现"
   ]
  },
  {
   "cell_type": "code",
   "execution_count": 5,
   "metadata": {
    "ExecuteTime": {
     "end_time": "2020-01-08T02:13:48.774685Z",
     "start_time": "2020-01-08T02:13:48.766437Z"
    },
    "hidden": true
   },
   "outputs": [],
   "source": [
    "from typing import List\n",
    "class Solution3:\n",
    "    def containsDuplicate(self, nums: List[int]) -> bool:\n",
    "        return len(set(nums)) != len(nums) "
   ]
  },
  {
   "cell_type": "markdown",
   "metadata": {
    "ExecuteTime": {
     "end_time": "2020-01-07T01:36:00.044399Z",
     "start_time": "2020-01-07T01:35:59.906808Z"
    }
   },
   "source": [
    "###  代码测试"
   ]
  },
  {
   "cell_type": "code",
   "execution_count": 6,
   "metadata": {
    "ExecuteTime": {
     "end_time": "2020-01-08T02:13:50.070426Z",
     "start_time": "2020-01-08T02:13:50.063789Z"
    },
    "scrolled": false
   },
   "outputs": [
    {
     "name": "stdout",
     "output_type": "stream",
     "text": [
      "True\n",
      "False\n",
      "True\n"
     ]
    }
   ],
   "source": [
    "# test case\n",
    "s = Solution3()\n",
    "print(s.containsDuplicate([1, 2, 3, 1]))\n",
    "print(s.containsDuplicate([1, 2, 3, 4]))\n",
    "print(s.containsDuplicate([1,1,1,3,3,4,3,2,4,2]))"
   ]
  }
 ],
 "metadata": {
  "kernelspec": {
   "display_name": "Python 3",
   "language": "python",
   "name": "python3"
  },
  "language_info": {
   "codemirror_mode": {
    "name": "ipython",
    "version": 3
   },
   "file_extension": ".py",
   "mimetype": "text/x-python",
   "name": "python",
   "nbconvert_exporter": "python",
   "pygments_lexer": "ipython3",
   "version": "3.7.4"
  },
  "toc": {
   "base_numbering": 1,
   "nav_menu": {},
   "number_sections": true,
   "sideBar": true,
   "skip_h1_title": false,
   "title_cell": "Table of Contents",
   "title_sidebar": "Contents",
   "toc_cell": false,
   "toc_position": {},
   "toc_section_display": true,
   "toc_window_display": false
  },
  "varInspector": {
   "cols": {
    "lenName": 16,
    "lenType": 16,
    "lenVar": 40
   },
   "kernels_config": {
    "python": {
     "delete_cmd_postfix": "",
     "delete_cmd_prefix": "del ",
     "library": "var_list.py",
     "varRefreshCmd": "print(var_dic_list())"
    },
    "r": {
     "delete_cmd_postfix": ") ",
     "delete_cmd_prefix": "rm(",
     "library": "var_list.r",
     "varRefreshCmd": "cat(var_dic_list()) "
    }
   },
   "types_to_exclude": [
    "module",
    "function",
    "builtin_function_or_method",
    "instance",
    "_Feature"
   ],
   "window_display": false
  }
 },
 "nbformat": 4,
 "nbformat_minor": 2
}
