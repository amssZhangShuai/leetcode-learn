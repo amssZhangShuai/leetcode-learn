{
 "cells": [
  {
   "cell_type": "markdown",
   "metadata": {
    "ExecuteTime": {
     "end_time": "2020-01-11T03:43:01.746181Z",
     "start_time": "2020-01-11T03:43:01.630042Z"
    }
   },
   "source": [
    "# 问题描述"
   ]
  },
  {
   "cell_type": "markdown",
   "metadata": {},
   "source": [
    "给定一个 n × n 的二维矩阵表示一个图像。将图像顺时针旋转 90 度。"
   ]
  },
  {
   "cell_type": "markdown",
   "metadata": {
    "ExecuteTime": {
     "end_time": "2020-01-11T03:43:01.746181Z",
     "start_time": "2020-01-11T03:43:01.630042Z"
    }
   },
   "source": [
    "# 示例"
   ]
  },
  {
   "cell_type": "markdown",
   "metadata": {
    "ExecuteTime": {
     "end_time": "2020-01-11T03:43:01.746181Z",
     "start_time": "2020-01-11T03:43:01.630042Z"
    }
   },
   "source": [
    "## 例1"
   ]
  },
  {
   "cell_type": "markdown",
   "metadata": {},
   "source": [
    "给定 matrix = \n",
    "[\n",
    "  [1,2,3],\n",
    "  [4,5,6],\n",
    "  [7,8,9]\n",
    "],\n"
   ]
  },
  {
   "cell_type": "markdown",
   "metadata": {},
   "source": [
    "原地旋转输入矩阵，使其变为:\n",
    "[\n",
    "  [7,4,1],\n",
    "  [8,5,2],\n",
    "  [9,6,3]\n",
    "]"
   ]
  },
  {
   "cell_type": "markdown",
   "metadata": {
    "ExecuteTime": {
     "end_time": "2020-01-11T03:43:01.746181Z",
     "start_time": "2020-01-11T03:43:01.630042Z"
    }
   },
   "source": [
    "## 例2"
   ]
  },
  {
   "cell_type": "markdown",
   "metadata": {
    "ExecuteTime": {
     "end_time": "2020-01-11T03:43:01.746181Z",
     "start_time": "2020-01-11T03:43:01.630042Z"
    }
   },
   "source": [
    "给定 matrix =\n",
    "[\n",
    "  [ 5, 1, 9,11],\n",
    "  [ 2, 4, 8,10],\n",
    "  [13, 3, 6, 7],\n",
    "  [15,14,12,16]\n",
    "], "
   ]
  },
  {
   "cell_type": "markdown",
   "metadata": {
    "ExecuteTime": {
     "end_time": "2020-01-11T03:43:01.746181Z",
     "start_time": "2020-01-11T03:43:01.630042Z"
    }
   },
   "source": [
    "原地旋转输入矩阵，使其变为:\n",
    "[\n",
    "  [15,13, 2, 5],\n",
    "  [14, 3, 4, 1],\n",
    "  [12, 6, 8, 9],\n",
    "  [16, 7,10,11]\n",
    "]\n"
   ]
  },
  {
   "cell_type": "markdown",
   "metadata": {
    "ExecuteTime": {
     "end_time": "2020-01-11T03:43:01.746181Z",
     "start_time": "2020-01-11T03:43:01.630042Z"
    }
   },
   "source": [
    "# 说明"
   ]
  },
  {
   "cell_type": "markdown",
   "metadata": {},
   "source": [
    "你必须在原地旋转图像，这意味着你需要直接修改输入的二维矩阵。请不要使用另一个矩阵来旋转图像。"
   ]
  },
  {
   "cell_type": "markdown",
   "metadata": {
    "ExecuteTime": {
     "end_time": "2020-01-11T03:43:01.746181Z",
     "start_time": "2020-01-11T03:43:01.630042Z"
    }
   },
   "source": [
    "# 解答"
   ]
  },
  {
   "cell_type": "markdown",
   "metadata": {
    "ExecuteTime": {
     "end_time": "2020-01-11T03:43:01.746181Z",
     "start_time": "2020-01-11T03:43:01.630042Z"
    }
   },
   "source": [
    "## 解答1"
   ]
  },
  {
   "cell_type": "markdown",
   "metadata": {
    "ExecuteTime": {
     "end_time": "2020-01-11T03:43:01.746181Z",
     "start_time": "2020-01-11T03:43:01.630042Z"
    },
    "heading_collapsed": true
   },
   "source": [
    "### 思路"
   ]
  },
  {
   "cell_type": "markdown",
   "metadata": {
    "hidden": true
   },
   "source": [
    "* 找n * n图像左上角合适的p * q子图像绕图像中心进行旋转\n",
    "  - 当n为偶数 n = 2k时，子图像为k * k，则由于4kk = (2k)^2，旋转后刚好满足要求\n",
    "  - 当n为奇数 n = 2k时，子图像为(k+1) * k，且此时图像中心还有一个点不用动，由于4(k+1)k + 1 = (2k+1)^2，旋转后刚好满足要求\n",
    "* 在子图像进行旋转时，直接遍历子图像的点进行点旋转"
   ]
  },
  {
   "cell_type": "markdown",
   "metadata": {
    "ExecuteTime": {
     "end_time": "2020-01-11T03:43:01.746181Z",
     "start_time": "2020-01-11T03:43:01.630042Z"
    }
   },
   "source": [
    "### 代码实现"
   ]
  },
  {
   "cell_type": "code",
   "execution_count": 14,
   "metadata": {
    "ExecuteTime": {
     "end_time": "2020-01-12T03:28:17.387776Z",
     "start_time": "2020-01-12T03:28:17.381262Z"
    }
   },
   "outputs": [],
   "source": [
    "from typing import List\n",
    "class Solution:\n",
    "    def rotate(self, matrix: List[List[int]]) -> None:\n",
    "        \"\"\"\n",
    "        Do not return anything, modify matrix in-place instead.\n",
    "        \"\"\"\n",
    "        n = len(matrix)\n",
    "        for i in range((n + 1) // 2):\n",
    "            for j in range(n // 2):\n",
    "                tmp = matrix[i][j]\n",
    "                matrix[i][j] = matrix[n - 1 - j][i]\n",
    "                matrix[n - 1 - j][i] = matrix[n - 1 - i][n - 1 - j]\n",
    "                matrix[n - 1 - i][n - 1 - j] = matrix[j][n - 1 - i]\n",
    "                matrix[j][n - 1 - i] = tmp \n"
   ]
  },
  {
   "cell_type": "markdown",
   "metadata": {
    "ExecuteTime": {
     "end_time": "2020-01-11T03:43:01.746181Z",
     "start_time": "2020-01-11T03:43:01.630042Z"
    }
   },
   "source": [
    "### 代码测试"
   ]
  },
  {
   "cell_type": "code",
   "execution_count": 16,
   "metadata": {
    "ExecuteTime": {
     "end_time": "2020-01-12T03:30:23.592527Z",
     "start_time": "2020-01-12T03:30:23.581101Z"
    }
   },
   "outputs": [
    {
     "name": "stdout",
     "output_type": "stream",
     "text": [
      "[[7, 4, 1], [8, 5, 2], [9, 6, 3]]\n",
      "[[15, 13, 2, 5], [14, 3, 4, 1], [12, 6, 8, 9], [16, 7, 10, 11]]\n"
     ]
    }
   ],
   "source": [
    "# test case\n",
    "s = Solution()\n",
    "matrix = [\n",
    "    [1, 2, 3],\n",
    "    [4, 5, 6],\n",
    "    [7, 8, 9]\n",
    "]\n",
    "s.rotate(matrix)\n",
    "print(matrix)\n",
    "matrix = [\n",
    "    [5, 1, 9, 11],\n",
    "    [2, 4, 8, 10],\n",
    "    [13, 3, 6, 7],\n",
    "    [15, 14, 12, 16],\n",
    "]\n",
    "s.rotate(matrix)\n",
    "print(matrix)"
   ]
  },
  {
   "cell_type": "markdown",
   "metadata": {
    "ExecuteTime": {
     "end_time": "2020-01-11T03:43:01.746181Z",
     "start_time": "2020-01-11T03:43:01.630042Z"
    }
   },
   "source": [
    "## 解答2（参考他人）"
   ]
  },
  {
   "cell_type": "markdown",
   "metadata": {
    "ExecuteTime": {
     "end_time": "2020-01-11T03:43:01.746181Z",
     "start_time": "2020-01-11T03:43:01.630042Z"
    }
   },
   "source": [
    "### 思路"
   ]
  },
  {
   "cell_type": "markdown",
   "metadata": {
    "ExecuteTime": {
     "end_time": "2020-01-11T03:43:01.746181Z",
     "start_time": "2020-01-11T03:43:01.630042Z"
    }
   },
   "source": [
    "* 图像转秩再对图像每一行向量反转"
   ]
  },
  {
   "cell_type": "markdown",
   "metadata": {
    "ExecuteTime": {
     "end_time": "2020-01-11T03:43:01.746181Z",
     "start_time": "2020-01-11T03:43:01.630042Z"
    }
   },
   "source": [
    "### 代码实现"
   ]
  },
  {
   "cell_type": "code",
   "execution_count": 22,
   "metadata": {
    "ExecuteTime": {
     "end_time": "2020-01-12T04:00:41.649936Z",
     "start_time": "2020-01-12T04:00:41.639200Z"
    }
   },
   "outputs": [],
   "source": [
    "from typing import List\n",
    "class Solution2:\n",
    "    def rotate(self, matrix: List[List[int]]) -> None:\n",
    "        \"\"\"\n",
    "        Do not return anything, modify matrix in-place instead.\n",
    "        \"\"\"\n",
    "        n = len(matrix)\n",
    "        for i in range(n - 1):\n",
    "            for j in range(i + 1, n):\n",
    "                tmp = matrix[i][j]\n",
    "                matrix[i][j] = matrix[j][i]\n",
    "                matrix[j][i] = tmp\n",
    "        \n",
    "        for row in matrix:\n",
    "            row.reverse()\n"
   ]
  },
  {
   "cell_type": "markdown",
   "metadata": {
    "ExecuteTime": {
     "end_time": "2020-01-11T03:43:01.746181Z",
     "start_time": "2020-01-11T03:43:01.630042Z"
    }
   },
   "source": [
    "### 代码测试"
   ]
  },
  {
   "cell_type": "code",
   "execution_count": 23,
   "metadata": {
    "ExecuteTime": {
     "end_time": "2020-01-12T04:00:43.414705Z",
     "start_time": "2020-01-12T04:00:43.409599Z"
    }
   },
   "outputs": [
    {
     "name": "stdout",
     "output_type": "stream",
     "text": [
      "[[7, 4, 1], [8, 5, 2], [9, 6, 3]]\n",
      "[[15, 13, 2, 5], [14, 3, 4, 1], [12, 6, 8, 9], [16, 7, 10, 11]]\n"
     ]
    }
   ],
   "source": [
    "# test case\n",
    "s = Solution2()\n",
    "matrix = [\n",
    "    [1, 2, 3],\n",
    "    [4, 5, 6],\n",
    "    [7, 8, 9]\n",
    "]\n",
    "s.rotate(matrix)\n",
    "print(matrix)\n",
    "matrix = [\n",
    "    [5, 1, 9, 11],\n",
    "    [2, 4, 8, 10],\n",
    "    [13, 3, 6, 7],\n",
    "    [15, 14, 12, 16],\n",
    "]\n",
    "s.rotate(matrix)\n",
    "print(matrix)"
   ]
  }
 ],
 "metadata": {
  "kernelspec": {
   "display_name": "Python 3",
   "language": "python",
   "name": "python3"
  },
  "language_info": {
   "codemirror_mode": {
    "name": "ipython",
    "version": 3
   },
   "file_extension": ".py",
   "mimetype": "text/x-python",
   "name": "python",
   "nbconvert_exporter": "python",
   "pygments_lexer": "ipython3",
   "version": "3.7.4"
  },
  "toc": {
   "base_numbering": 1,
   "nav_menu": {},
   "number_sections": true,
   "sideBar": true,
   "skip_h1_title": false,
   "title_cell": "Table of Contents",
   "title_sidebar": "Contents",
   "toc_cell": false,
   "toc_position": {},
   "toc_section_display": true,
   "toc_window_display": false
  },
  "varInspector": {
   "cols": {
    "lenName": 16,
    "lenType": 16,
    "lenVar": 40
   },
   "kernels_config": {
    "python": {
     "delete_cmd_postfix": "",
     "delete_cmd_prefix": "del ",
     "library": "var_list.py",
     "varRefreshCmd": "print(var_dic_list())"
    },
    "r": {
     "delete_cmd_postfix": ") ",
     "delete_cmd_prefix": "rm(",
     "library": "var_list.r",
     "varRefreshCmd": "cat(var_dic_list()) "
    }
   },
   "types_to_exclude": [
    "module",
    "function",
    "builtin_function_or_method",
    "instance",
    "_Feature"
   ],
   "window_display": false
  }
 },
 "nbformat": 4,
 "nbformat_minor": 2
}
