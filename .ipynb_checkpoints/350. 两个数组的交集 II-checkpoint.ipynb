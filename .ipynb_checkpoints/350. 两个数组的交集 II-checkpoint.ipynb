{
 "cells": [
  {
   "cell_type": "markdown",
   "metadata": {
    "heading_collapsed": true
   },
   "source": [
    "# 问题描述"
   ]
  },
  {
   "cell_type": "markdown",
   "metadata": {
    "hidden": true
   },
   "source": [
    "给定两个数组，编写一个函数来计算它们的交集。"
   ]
  },
  {
   "cell_type": "markdown",
   "metadata": {
    "heading_collapsed": true
   },
   "source": [
    "# 示例"
   ]
  },
  {
   "cell_type": "markdown",
   "metadata": {
    "heading_collapsed": true,
    "hidden": true
   },
   "source": [
    "## 例1"
   ]
  },
  {
   "cell_type": "markdown",
   "metadata": {
    "hidden": true
   },
   "source": [
    "输入: nums1 = [1,2,2,1], nums2 = [2,2]"
   ]
  },
  {
   "cell_type": "markdown",
   "metadata": {
    "hidden": true
   },
   "source": [
    "输出: [2,2]"
   ]
  },
  {
   "cell_type": "markdown",
   "metadata": {
    "heading_collapsed": true,
    "hidden": true
   },
   "source": [
    "## 例2"
   ]
  },
  {
   "cell_type": "markdown",
   "metadata": {
    "hidden": true
   },
   "source": [
    "输入: nums1 = [4,9,5], nums2 = [9,4,9,8,4]"
   ]
  },
  {
   "cell_type": "markdown",
   "metadata": {
    "hidden": true
   },
   "source": [
    "输出: [4,9]"
   ]
  },
  {
   "cell_type": "markdown",
   "metadata": {
    "heading_collapsed": true
   },
   "source": [
    "# 说明"
   ]
  },
  {
   "cell_type": "markdown",
   "metadata": {
    "hidden": true
   },
   "source": [
    "* 输出结果中每个元素出现的次数，应与元素在两个数组中出现的次数一致。\n",
    "* 我们可以不考虑输出结果的顺序"
   ]
  },
  {
   "cell_type": "markdown",
   "metadata": {
    "heading_collapsed": true
   },
   "source": [
    "# 进阶"
   ]
  },
  {
   "cell_type": "markdown",
   "metadata": {
    "hidden": true
   },
   "source": [
    "* 如果给定的数组已经排好序呢？你将如何优化你的算法？\n",
    "* 如果 nums1 的大小比 nums2 小很多，哪种方法更优？\n",
    "* 如果 nums2 的元素存储在磁盘上，磁盘内存是有限的，并且你不能一次加载所有的元素到内存中，你该怎么办？"
   ]
  },
  {
   "cell_type": "markdown",
   "metadata": {
    "heading_collapsed": true
   },
   "source": [
    "# 解答"
   ]
  },
  {
   "cell_type": "markdown",
   "metadata": {
    "heading_collapsed": true,
    "hidden": true
   },
   "source": [
    "## 解答一"
   ]
  },
  {
   "cell_type": "markdown",
   "metadata": {
    "heading_collapsed": true,
    "hidden": true
   },
   "source": [
    "### 思路"
   ]
  },
  {
   "cell_type": "markdown",
   "metadata": {
    "ExecuteTime": {
     "end_time": "2020-01-09T04:08:47.793469Z",
     "start_time": "2020-01-09T04:08:47.788508Z"
    },
    "hidden": true
   },
   "source": [
    "* 遍历其中一个数组，以数组元素为Key，在数组中出现的次数为value，存储于map中\n",
    "* 遍历另外一个数组，遍历到的元素出现在map的key中，且次数value不为0，则该元素是交集中的元素，且将map中的value减1，否则该元素不为交集中的元素"
   ]
  },
  {
   "cell_type": "markdown",
   "metadata": {
    "heading_collapsed": true,
    "hidden": true
   },
   "source": [
    "### 代码实现"
   ]
  },
  {
   "cell_type": "code",
   "execution_count": 47,
   "metadata": {
    "ExecuteTime": {
     "end_time": "2020-01-09T04:52:24.202912Z",
     "start_time": "2020-01-09T04:52:24.195588Z"
    },
    "hidden": true
   },
   "outputs": [],
   "source": [
    "from typing import List\n",
    "class Solution:\n",
    "    def intersect(self, nums1: List[int], nums2: List[int]) -> List[int]:\n",
    "        m = {}\n",
    "        for n in nums1:\n",
    "            val = m.get(n)\n",
    "            m[n] = 1 if val is None else val + 1\n",
    "        out = []\n",
    "        for n in nums2:\n",
    "            val = m.get(n)\n",
    "            if not val is None and val > 0:\n",
    "                out.append(n)\n",
    "                m[n] = val - 1\n",
    "        return out"
   ]
  },
  {
   "cell_type": "markdown",
   "metadata": {
    "heading_collapsed": true,
    "hidden": true
   },
   "source": [
    "### 代码测试"
   ]
  },
  {
   "cell_type": "code",
   "execution_count": 45,
   "metadata": {
    "ExecuteTime": {
     "end_time": "2020-01-09T04:50:12.257355Z",
     "start_time": "2020-01-09T04:50:12.251241Z"
    },
    "hidden": true,
    "scrolled": true
   },
   "outputs": [
    {
     "name": "stdout",
     "output_type": "stream",
     "text": [
      "[2, 2]\n",
      "[9, 4]\n"
     ]
    }
   ],
   "source": [
    "# test case\n",
    "s = Solution()\n",
    "print(s.intersect([1,2,2,1], [2,2]))\n",
    "print(s.intersect([4,9,5], [9,4,9,8,4]))"
   ]
  },
  {
   "cell_type": "markdown",
   "metadata": {
    "heading_collapsed": true
   },
   "source": [
    "# 进阶回答"
   ]
  },
  {
   "cell_type": "markdown",
   "metadata": {
    "ExecuteTime": {
     "end_time": "2020-01-09T04:45:48.119724Z",
     "start_time": "2020-01-09T04:45:48.115168Z"
    },
    "hidden": true
   },
   "source": [
    "* 类似于归并排序对两排好序的子数组整理排序的算法，两指针分别指向两数组的起始位置，不妨设两数组都是升序排序，比较指针的值直到某个指针不能移动为止\n",
    "  - 若两值相等，则该值为交集的元素，两指针分别向右移动一个位置\n",
    "  - 若一大一小，小的指针向右移动一个位置\n",
    "* 遍历nums1存储在解法一的哈希表\n",
    "* 遍历nums1存储在解法一的哈希表"
   ]
  }
 ],
 "metadata": {
  "kernelspec": {
   "display_name": "Python 3",
   "language": "python",
   "name": "python3"
  },
  "language_info": {
   "codemirror_mode": {
    "name": "ipython",
    "version": 3
   },
   "file_extension": ".py",
   "mimetype": "text/x-python",
   "name": "python",
   "nbconvert_exporter": "python",
   "pygments_lexer": "ipython3",
   "version": "3.7.4"
  },
  "toc": {
   "base_numbering": 1,
   "nav_menu": {},
   "number_sections": true,
   "sideBar": true,
   "skip_h1_title": false,
   "title_cell": "Table of Contents",
   "title_sidebar": "Contents",
   "toc_cell": false,
   "toc_position": {
    "height": "calc(100% - 180px)",
    "left": "10px",
    "top": "150px",
    "width": "288px"
   },
   "toc_section_display": true,
   "toc_window_display": true
  },
  "varInspector": {
   "cols": {
    "lenName": 16,
    "lenType": 16,
    "lenVar": 40
   },
   "kernels_config": {
    "python": {
     "delete_cmd_postfix": "",
     "delete_cmd_prefix": "del ",
     "library": "var_list.py",
     "varRefreshCmd": "print(var_dic_list())"
    },
    "r": {
     "delete_cmd_postfix": ") ",
     "delete_cmd_prefix": "rm(",
     "library": "var_list.r",
     "varRefreshCmd": "cat(var_dic_list()) "
    }
   },
   "oldHeight": 122,
   "position": {
    "height": "40px",
    "left": "1070px",
    "right": "20px",
    "top": "121px",
    "width": "350px"
   },
   "types_to_exclude": [
    "module",
    "function",
    "builtin_function_or_method",
    "instance",
    "_Feature"
   ],
   "varInspector_section_display": "none",
   "window_display": false
  }
 },
 "nbformat": 4,
 "nbformat_minor": 2
}
